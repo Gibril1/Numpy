{
 "cells": [
  {
   "cell_type": "code",
   "execution_count": null,
   "id": "85e2646d",
   "metadata": {},
   "outputs": [],
   "source": [
    "import numpy as np\n",
    "import urllib.request"
   ]
  },
  {
   "cell_type": "code",
   "execution_count": null,
   "id": "a237dc2e",
   "metadata": {},
   "outputs": [],
   "source": [
    "urllib.request.urlretrieve('https://hub.jovian.ml/wp-content/uploads/2020/08/climate.csv','climate.txt')"
   ]
  },
  {
   "cell_type": "code",
   "execution_count": null,
   "id": "e1e6ef28",
   "metadata": {},
   "outputs": [],
   "source": [
    "# reading a csv file using numpy\n",
    "climate_data = np.genfromtxt('climate.txt', delimiter=',', skip_header=1)"
   ]
  },
  {
   "cell_type": "code",
   "execution_count": null,
   "id": "8d0773f6",
   "metadata": {},
   "outputs": [],
   "source": [
    "weights = np.array([0.3, 0.2, 0.5])"
   ]
  },
  {
   "cell_type": "code",
   "execution_count": null,
   "id": "f2937a62",
   "metadata": {},
   "outputs": [],
   "source": [
    "yields = climate_data @ weights"
   ]
  },
  {
   "cell_type": "code",
   "execution_count": null,
   "id": "b63430c6",
   "metadata": {},
   "outputs": [],
   "source": [
    "# we can now add the array of yields as a new column in in the climate file\n",
    "climate_results = np.concatenate((climate_data, yields.reshape(1000, 1)), axis=1)"
   ]
  },
  {
   "cell_type": "code",
   "execution_count": null,
   "id": "81b755c6",
   "metadata": {},
   "outputs": [],
   "source": [
    "# save the array to a txt file\n",
    "np.savetxt('climate_results.txt', climate_results, fmt='%.2f', header='temperature,rainfall,humidity,yields', comments='')"
   ]
  },
  {
   "cell_type": "code",
   "execution_count": null,
   "id": "8c06866b",
   "metadata": {},
   "outputs": [],
   "source": [
    "\n",
    "```"
   ]
  },
  {
   "cell_type": "code",
   "execution_count": null,
   "id": "0550de9c",
   "metadata": {},
   "outputs": [],
   "source": []
  }
 ],
 "metadata": {
  "kernelspec": {
   "display_name": "Python 3 (ipykernel)",
   "language": "python",
   "name": "python3"
  },
  "language_info": {
   "codemirror_mode": {
    "name": "ipython",
    "version": 3
   },
   "file_extension": ".py",
   "mimetype": "text/x-python",
   "name": "python",
   "nbconvert_exporter": "python",
   "pygments_lexer": "ipython3",
   "version": "3.9.12"
  }
 },
 "nbformat": 4,
 "nbformat_minor": 5
}
