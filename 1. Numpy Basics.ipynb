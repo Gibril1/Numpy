{
 "cells": [
  {
   "cell_type": "code",
   "execution_count": 1,
   "id": "70c05e6e",
   "metadata": {},
   "outputs": [],
   "source": [
    "import numpy as np"
   ]
  },
  {
   "cell_type": "code",
   "execution_count": 2,
   "id": "14892375",
   "metadata": {},
   "outputs": [],
   "source": [
    "# creating arrays using numpy\n",
    "kanto = np.array([73,67,43])"
   ]
  },
  {
   "cell_type": "code",
   "execution_count": 3,
   "id": "626e6341",
   "metadata": {},
   "outputs": [
    {
     "data": {
      "text/plain": [
       "array([73, 67, 43])"
      ]
     },
     "execution_count": 3,
     "metadata": {},
     "output_type": "execute_result"
    }
   ],
   "source": [
    "kanto"
   ]
  },
  {
   "cell_type": "code",
   "execution_count": 4,
   "id": "a35ac54e",
   "metadata": {},
   "outputs": [],
   "source": [
    "w1, w2, w3 = [0.3,0.2,0.5]"
   ]
  },
  {
   "cell_type": "code",
   "execution_count": 5,
   "id": "e616a758",
   "metadata": {},
   "outputs": [],
   "source": [
    "weights = np.array([w1,w2,w3])"
   ]
  },
  {
   "cell_type": "code",
   "execution_count": 6,
   "id": "27e31036",
   "metadata": {},
   "outputs": [
    {
     "data": {
      "text/plain": [
       "array([0.3, 0.2, 0.5])"
      ]
     },
     "execution_count": 6,
     "metadata": {},
     "output_type": "execute_result"
    }
   ],
   "source": [
    "weights"
   ]
  },
  {
   "cell_type": "code",
   "execution_count": 7,
   "id": "83998d7b",
   "metadata": {},
   "outputs": [
    {
     "data": {
      "text/plain": [
       "numpy.ndarray"
      ]
     },
     "execution_count": 7,
     "metadata": {},
     "output_type": "execute_result"
    }
   ],
   "source": [
    "# checking the type of these numpy arrays\n",
    "type(weights)"
   ]
  },
  {
   "cell_type": "code",
   "execution_count": 8,
   "id": "9bc66dcd",
   "metadata": {},
   "outputs": [
    {
     "data": {
      "text/plain": [
       "0.3"
      ]
     },
     "execution_count": 8,
     "metadata": {},
     "output_type": "execute_result"
    }
   ],
   "source": [
    "# Numpy arrays support the indexing notation\n",
    "weights[0]"
   ]
  },
  {
   "cell_type": "code",
   "execution_count": 9,
   "id": "aadd2c37",
   "metadata": {},
   "outputs": [
    {
     "data": {
      "text/plain": [
       "56.8"
      ]
     },
     "execution_count": 9,
     "metadata": {},
     "output_type": "execute_result"
    }
   ],
   "source": [
    "# finding the dot product of the arrays above\n",
    "np.dot(kanto, weights)"
   ]
  },
  {
   "cell_type": "code",
   "execution_count": 10,
   "id": "07094699",
   "metadata": {},
   "outputs": [
    {
     "data": {
      "text/plain": [
       "56.8"
      ]
     },
     "execution_count": 10,
     "metadata": {},
     "output_type": "execute_result"
    }
   ],
   "source": [
    "# the dot operator functionality can be simplified by using * operator and calling the sum function on them\n",
    "(kanto*weights).sum()"
   ]
  },
  {
   "cell_type": "code",
   "execution_count": null,
   "id": "ebfb068c",
   "metadata": {},
   "outputs": [],
   "source": [
    "# The * operator performs an element-wise multiplication of two arrays(assuming they have the same size)\n",
    "# and the sum method calculates the sum of numbers in an array"
   ]
  },
  {
   "cell_type": "code",
   "execution_count": 11,
   "id": "ff35cea1",
   "metadata": {},
   "outputs": [],
   "source": [
    "arr1 = np.array([1,2,3])\n",
    "arr2 = np.array([4,5,6])"
   ]
  },
  {
   "cell_type": "code",
   "execution_count": 12,
   "id": "ace1de6f",
   "metadata": {},
   "outputs": [
    {
     "data": {
      "text/plain": [
       "32"
      ]
     },
     "execution_count": 12,
     "metadata": {},
     "output_type": "execute_result"
    }
   ],
   "source": [
    "(arr1*arr2).sum()"
   ]
  },
  {
   "cell_type": "code",
   "execution_count": 13,
   "id": "55d30b13",
   "metadata": {},
   "outputs": [],
   "source": [
    "# Multi Dimensional Arrays (Matrices)\n",
    "climate_data = np.array([[7,67,43],[91,88,64],[87,143,58],[102,43,37],[69,96,70]])"
   ]
  },
  {
   "cell_type": "code",
   "execution_count": 14,
   "id": "18ebcac9",
   "metadata": {},
   "outputs": [
    {
     "data": {
      "text/plain": [
       "array([[  7,  67,  43],\n",
       "       [ 91,  88,  64],\n",
       "       [ 87, 143,  58],\n",
       "       [102,  43,  37],\n",
       "       [ 69,  96,  70]])"
      ]
     },
     "execution_count": 14,
     "metadata": {},
     "output_type": "execute_result"
    }
   ],
   "source": [
    "climate_data"
   ]
  },
  {
   "cell_type": "code",
   "execution_count": 15,
   "id": "c35e8c7f",
   "metadata": {},
   "outputs": [
    {
     "data": {
      "text/plain": [
       "(5, 3)"
      ]
     },
     "execution_count": 15,
     "metadata": {},
     "output_type": "execute_result"
    }
   ],
   "source": [
    "# getting to know the shape of the array\n",
    "climate_data.shape"
   ]
  },
  {
   "cell_type": "code",
   "execution_count": 16,
   "id": "17c538e1",
   "metadata": {},
   "outputs": [
    {
     "data": {
      "text/plain": [
       "array([0.3, 0.2, 0.5])"
      ]
     },
     "execution_count": 16,
     "metadata": {},
     "output_type": "execute_result"
    }
   ],
   "source": [
    "weights"
   ]
  },
  {
   "cell_type": "code",
   "execution_count": 17,
   "id": "cc60bf27",
   "metadata": {},
   "outputs": [
    {
     "data": {
      "text/plain": [
       "(3,)"
      ]
     },
     "execution_count": 17,
     "metadata": {},
     "output_type": "execute_result"
    }
   ],
   "source": [
    "weights.shape"
   ]
  },
  {
   "cell_type": "code",
   "execution_count": 18,
   "id": "daf0bf28",
   "metadata": {},
   "outputs": [],
   "source": [
    "# 3D Array\n",
    "arr3 = np.array([\n",
    "    [[11, 12, 13], [13, 14, 15]],\n",
    "    [[15, 16, 17], [17, 18, 19]]\n",
    "                ])"
   ]
  },
  {
   "cell_type": "code",
   "execution_count": 19,
   "id": "a4de24eb",
   "metadata": {},
   "outputs": [
    {
     "data": {
      "text/plain": [
       "array([[[11, 12, 13],\n",
       "        [13, 14, 15]],\n",
       "\n",
       "       [[15, 16, 17],\n",
       "        [17, 18, 19]]])"
      ]
     },
     "execution_count": 19,
     "metadata": {},
     "output_type": "execute_result"
    }
   ],
   "source": [
    "arr3"
   ]
  },
  {
   "cell_type": "code",
   "execution_count": 20,
   "id": "256e24da",
   "metadata": {},
   "outputs": [
    {
     "data": {
      "text/plain": [
       "(2, 2, 3)"
      ]
     },
     "execution_count": 20,
     "metadata": {},
     "output_type": "execute_result"
    }
   ],
   "source": [
    "arr3.shape\n"
   ]
  },
  {
   "cell_type": "code",
   "execution_count": 21,
   "id": "0bfff758",
   "metadata": {},
   "outputs": [
    {
     "data": {
      "text/plain": [
       "dtype('float64')"
      ]
     },
     "execution_count": 21,
     "metadata": {},
     "output_type": "execute_result"
    }
   ],
   "source": [
    "# all the elements in a numpy array should have the same datatype.\n",
    "\n",
    "# checking the data type of a numpy array\n",
    "weights.dtype"
   ]
  },
  {
   "cell_type": "code",
   "execution_count": 22,
   "id": "5ab9b198",
   "metadata": {},
   "outputs": [
    {
     "data": {
      "text/plain": [
       "dtype('int32')"
      ]
     },
     "execution_count": 22,
     "metadata": {},
     "output_type": "execute_result"
    }
   ],
   "source": [
    "climate_data.dtype"
   ]
  },
  {
   "cell_type": "code",
   "execution_count": 23,
   "id": "247f269a",
   "metadata": {},
   "outputs": [
    {
     "data": {
      "text/plain": [
       "array([[  7,  67,  43],\n",
       "       [ 91,  88,  64],\n",
       "       [ 87, 143,  58],\n",
       "       [102,  43,  37],\n",
       "       [ 69,  96,  70]])"
      ]
     },
     "execution_count": 23,
     "metadata": {},
     "output_type": "execute_result"
    }
   ],
   "source": [
    "climate_data\n"
   ]
  },
  {
   "cell_type": "code",
   "execution_count": null,
   "id": "353c86b0",
   "metadata": {},
   "outputs": [],
   "source": [
    "# the climate data is matrix. That is, it is a multi dimensional array\n",
    "# weights is a single dimensional array. That is, it is a vector.\n",
    "# we can do a matrix multiplication of matrices and vectors"
   ]
  },
  {
   "cell_type": "code",
   "execution_count": 24,
   "id": "af4b7942",
   "metadata": {},
   "outputs": [
    {
     "data": {
      "text/plain": [
       "array([37. , 76.9, 83.7, 57.7, 74.9])"
      ]
     },
     "execution_count": 24,
     "metadata": {},
     "output_type": "execute_result"
    }
   ],
   "source": [
    "# matrix multiplication\n",
    "np.matmul(climate_data, weights)"
   ]
  },
  {
   "cell_type": "code",
   "execution_count": 25,
   "id": "ef097a27",
   "metadata": {},
   "outputs": [
    {
     "data": {
      "text/plain": [
       "array([37. , 76.9, 83.7, 57.7, 74.9])"
      ]
     },
     "execution_count": 25,
     "metadata": {},
     "output_type": "execute_result"
    }
   ],
   "source": [
    "# the @ opertator can be used to simply do matrix multiplication\n",
    "climate_data @ weights"
   ]
  },
  {
   "cell_type": "code",
   "execution_count": null,
   "id": "3c8617b5",
   "metadata": {},
   "outputs": [],
   "source": []
  }
 ],
 "metadata": {
  "kernelspec": {
   "display_name": "Python 3 (ipykernel)",
   "language": "python",
   "name": "python3"
  },
  "language_info": {
   "codemirror_mode": {
    "name": "ipython",
    "version": 3
   },
   "file_extension": ".py",
   "mimetype": "text/x-python",
   "name": "python",
   "nbconvert_exporter": "python",
   "pygments_lexer": "ipython3",
   "version": "3.9.12"
  }
 },
 "nbformat": 4,
 "nbformat_minor": 5
}
